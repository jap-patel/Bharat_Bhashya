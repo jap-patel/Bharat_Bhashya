{
 "cells": [
  {
   "cell_type": "code",
   "execution_count": 4,
   "metadata": {},
   "outputs": [],
   "source": [
    "import pymongo\n",
    "import pandas\n",
    "import helper"
   ]
  },
  {
   "cell_type": "code",
   "execution_count": null,
   "metadata": {},
   "outputs": [],
   "source": [
    "@app.route(\"/update_security_agency_page/<string:agency_name>\",methods=['GET','POST'])\n",
    "def update_security_agency_page(agency_name):\n",
    "    admin_conn = helper.connect_to_db('security_agencies')\n",
    "    admin_coll = admin_conn[2]\n",
    "    security_agencies_list = admin_coll.find()\n",
    "    security_agencies_list = list(security_agencies_list)\n",
    "    #print(security_agencies_list)\n",
    "    return render_template('update_detail.html',agency_name=agency_name,security_agencies_list = security_agencies_list)\n",
    "\n",
    "@app.route(\"/update/<string:agency_name>\",methods=['GET','POST'])\n",
    "def update(agency_name):\n",
    "    msg=''\n",
    "    admin_conn = helper.connect_to_db('security_agencies')\n",
    "    admin_coll = admin_conn[2]\n",
    "    security_agencies_list = admin_coll.find()\n",
    "    security_agencies_list = list(security_agencies_list)\n",
    "    print(security_agencies_list)\n",
    "    if request.method == 'POST' and  'security_agency_name' in request.form:\n",
    "        new_agency_name = request.form['new_security_name']\n",
    "        print(new_agency_name)\n",
    "        check_agencies = admin_coll.find({'agency_name' : agency_name})\n",
    "        check_agencies = list(check_agencies)\n",
    "        if(len(check_agencies)):\n",
    "            update = admin_coll.update_one({\"agency_name\":agency_name} ,{\"$set\":{\"agency_name\":new_agency_name}})\n",
    "            if(update):\n",
    "                print(\"Agency updated successfully..\")\n",
    "                msg = 'Agency updated successfully..'\n",
    "                security_agencies_list = admin_coll.find()\n",
    "                security_agencies_list = list(security_agencies_list)\n",
    "                admin_conn[1].close()   \n",
    "            return render_template('update_detail.html',msg = msg,security_agencies_list = security_agencies_list)\n",
    "\n",
    "        else:\n",
    "            print(\"Can't update data..\")\n",
    "            msg = 'Can not update data'\n",
    "            security_agencies_list = admin_coll.find()\n",
    "            security_agencies_list = list(security_agencies_list)\n",
    "            admin_conn[1].close()   \n",
    "            return render_template('update_detail.html',msg = msg,security_agencies_list = security_agencies_list)  \n",
    "    return render_template('update_detail.html',security_agencies_list = security_agencies_list,msg=msg)"
   ]
  },
  {
   "cell_type": "code",
   "execution_count": 8,
   "metadata": {},
   "outputs": [
    {
     "ename": "NameError",
     "evalue": "name 'form_police_speech_language' is not defined",
     "output_type": "error",
     "traceback": [
      "\u001b[1;31m---------------------------------------------------------------------------\u001b[0m",
      "\u001b[1;31mNameError\u001b[0m                                 Traceback (most recent call last)",
      "\u001b[1;32m<ipython-input-8-21bc42ecdf13>\u001b[0m in \u001b[0;36m<module>\u001b[1;34m\u001b[0m\n\u001b[1;32m----> 1\u001b[1;33m \u001b[0mprint\u001b[0m\u001b[1;33m(\u001b[0m\u001b[1;34m\"overall_\"\u001b[0m \u001b[1;33m+\u001b[0m \u001b[0mstr\u001b[0m\u001b[1;33m(\u001b[0m\u001b[0mform_police_speech_language\u001b[0m\u001b[1;33m)\u001b[0m \u001b[1;33m+\u001b[0m \u001b[1;34m\"_to_\"\u001b[0m \u001b[1;33m+\u001b[0m \u001b[0mstr\u001b[0m\u001b[1;33m(\u001b[0m\u001b[0mform_suspect_speech_language\u001b[0m\u001b[1;33m)\u001b[0m\u001b[1;33m)\u001b[0m\u001b[1;33m\u001b[0m\u001b[1;33m\u001b[0m\u001b[0m\n\u001b[0m",
      "\u001b[1;31mNameError\u001b[0m: name 'form_police_speech_language' is not defined"
     ]
    }
   ],
   "source": [
    "print(\"overall_\" + str(form_police_speech_language) + \"_to_\" + str(form_suspect_speech_language))"
   ]
  },
  {
   "cell_type": "code",
   "execution_count": null,
   "metadata": {},
   "outputs": [],
   "source": [
    "form_police_speech_language = \"english\"\n",
    "form_suspect_speech_language = \"hindi\""
   ]
  },
  {
   "cell_type": "code",
   "execution_count": null,
   "metadata": {},
   "outputs": [],
   "source": [
    "\n",
    "# http://127.0.0.1:8000/save_session/police:%20%0A%09police:%20what%20is%20the%20name%0A%09suspect:%20%E0%AA%B9%E0%AA%BE%20%E0%AA%A4%E0%AB%81%E0%AA%82%20%E0%AA%AE%E0%AA%BE%E0%AA%B0%E0%AB%81%E0%AA%82%20%E0%AA%A8%E0%AA%BE%E0%AA%AE%20%E0%AA%9C%E0%AB%8B%E0%AA%AC%20%E0%AA%AE%E0%AA%BE%E0%AA%B0%E0%AB%80%20%E0%AA%9C%E0%AB%8B%E0%AA%A1%E0%AB%87%20%E0%AA%A6%E0%AA%BF%E0%AA%B5%E0%AB%8D%E0%AA%AF%E0%AB%87%E0%AA%B6%20%E0%AA%AC%E0%AB%88%E0%AA%A0%E0%AA%BE%0A%09suspect:%20%E0%AA%AE%E0%AA%BE%E0%AA%B0%E0%AB%80%20%E0%AA%AA%E0%AA%BE%E0%AA%9B%E0%AA%B3%20%E0%AA%9C%E0%AB%87%20%E0%AA%9B%E0%AB%87%20%E0%AA%A4%E0%AB%87%20%E0%AA%A6%E0%AB%81%E0%AA%B6%E0%AB%8D%E0%AA%AE%E0%AA%A8%20%E0%AA%B8%E0%AA%B0%20%E0%AA%9B%E0%AB%87%20%E0%AA%A4%E0%AB%87%E0%AA%A8%E0%AB%80%20%E0%AA%AC%E0%AA%BE%E0%AA%9C%E0%AB%81%E0%AA%AE%E0%AA%BE%E0%AA%82%20%E0%AA%AE%E0%AA%BE%E0%AA%B0%E0%AB%80%20%E0%AA%A1%E0%AA%BE%E0%AA%AC%E0%AB%80%20%E0%AA%AC%E0%AA%BE%E0%AA%9C%E0%AB%81%20%E0%AA%A1%E0%AA%B0%E0%AB%8D%E0%AA%AE%E0%AB%87%E0%AA%9F%20%E0%AA%9B%E0%AB%87%20%E0%AA%A4%E0%AB%87%E0%AA%A8%E0%AB%80%20%E0%AA%A1%E0%AA%BE%E0%AA%AC%E0%AB%80%20%E0%AA%AC%E0%AA%BE%E0%AA%9C%E0%AB%81%20%E0%AA%B5%E0%AA%BF%E0%AA%9A%E0%AA%B2%E0%AA%A8%20%E0%AA%9B%E0%AB%87%20%E0%AA%9C%E0%AB%87%2013%20%E0%AA%9B%E0%AB%87%0A%09police:%20The%20name%20is%20Bansari%0A%09police:%20So%20it%20will%20be%20like%20this%0A%09suspect:%20%E0%AA%A8%E0%AB%8B%E0%AA%95%E0%AA%B0%E0%AB%80%20%E0%AA%9B%E0%AB%87%20%E0%AA%85%E0%AA%A8%E0%AB%87%20%E0%AA%AE%E0%AB%87%E0%AA%82%20%E0%AA%97%E0%AB%81%E0%AA%A8%E0%AB%8B%20%E0%AA%95%E0%AA%B0%E0%AB%8D%E0%AA%AF%E0%AB%8B%20%E0%AA%9B%E0%AB%87%0A%09police:%20I%20have%20a%205S%20now%20and%20I%20fell%20for%20one%20of%20the%20offenders%20I%20think%20is%20involved%20within%20two%20days%20I%20have%20to%20inquire%20about%20it%20now.%0A%09police:%20My%20name%20is%20the%20same%0A%09police:%20Motor%20Ladki%20Marle%20will%20do%20nothing%20even%20if%20it%20is%20created%0A%09police:%20on%20my%20way%0A%09police:%20My%20name%20is%20Dinesh%0A%09police:%20%0A%09police:%20%0A%09police:%20my%20name%20is%20divyesh%20my%20friend%20name%20is%20jap%20with%20us%20jayshree%20dhan%20vishal%20is%20with%20cancer%0A%09police:%20Palali%20Nuj%20Palali%20Lo%20was%20launched%20in%20India.%20Then%20went%20to%20take%20it%20and%20if%20the%20body%20is%20fat%20free%2C%20more%20women%20came.%0A%09police:%20Mahabharata%20by%20Dr.%20Sharad%0A%09suspect:%20%0A%09police:%20%0A%09police:%20%0A%09police:%20%0A%09/Gujarati/English/English"
   ]
  },
  {
   "cell_type": "code",
   "execution_count": 7,
   "metadata": {},
   "outputs": [
    {
     "name": "stdout",
     "output_type": "stream",
     "text": [
      "<pymongo.cursor.Cursor object at 0x000001E85105D100>\n",
      "[{'_id': ObjectId('6305a013263a9c342479ca8d'), 'agency_name': ' Crime Investigation Department (CID)'}, {'_id': ObjectId('6305a03f263a9c342479ca8e'), 'agency_name': 'National Investigation Agency\\xa0(NIA)'}, {'_id': ObjectId('6305a061263a9c342479ca8f'), 'agency_name': 'Narcotics Control Bureau (NCB)'}, {'_id': ObjectId('6305a07c263a9c342479ca90'), 'agency_name': 'Research and Analysis Wing (RAW)'}, {'_id': ObjectId('6305a0d1263a9c342479ca91'), 'agency_name': 'Gujarat Police'}, {'_id': ObjectId('6305a0ee263a9c342479ca92'), 'agency_name': 'Delhi Police'}, {'_id': ObjectId('6305a11f263a9c342479ca93'), 'agency_name': 'Punjab Police'}]\n"
     ]
    }
   ],
   "source": [
    "admin_conn = helper.connect_to_db('security_agencies')\n",
    "admin_coll = admin_conn[2]\n",
    "security_agencies_list = admin_coll.find()\n",
    "print(security_agencies_list)                  \n",
    "security_agencies_result = list(security_agencies_list)  \n",
    "print(security_agencies_result)\n",
    "admin_conn[1].close()   "
   ]
  },
  {
   "cell_type": "code",
   "execution_count": null,
   "metadata": {},
   "outputs": [],
   "source": [
    "list1 = [{'_id': \"ObjectId('62ff52f65316211797b28fac')\", 'username': 'Jap_patel', 'fir_number': '26417', 'case_name': 'first case', 'case_incharge': 'jap hirpara', 'state': 'GJ', 'city': 'AHM ', 'area': 'one of the bench in 201, B-block, VGEC', 'date_of_crime': '2022-08-19', 'suspects': 'vishal prajapati, oza vishal', 'crime_category': 'SC', 'crime_sub_category': 'GT ', 'keywords': 'B', 'other_keywords': '', 'summary': 'suspect is a rowdy guy, bachke rehna re baba!!', 'case_status': 'open'}, \\\n",
    "    {'summary': 'Jap_patel', 'fir_number': 'c-382', 'case_name': 'third case'}, {'summary': 'Jap_patel', 'fir_number': '17619', 'case_name': 'second case'}]"
   ]
  },
  {
   "cell_type": "code",
   "execution_count": 8,
   "metadata": {},
   "outputs": [
    {
     "name": "stdout",
     "output_type": "stream",
     "text": [
      "[Database(MongoClient(host=['analytics-shard-00-00.gf6av.mongodb.net:27017', 'analytics-shard-00-02.gf6av.mongodb.net:27017', 'analytics-shard-00-01.gf6av.mongodb.net:27017'], document_class=dict, tz_aware=False, connect=True, authsource='admin', replicaset='atlas-xuu70i-shard-0', ssl=True, ssl_cert_reqs=<VerifyMode.CERT_NONE: 0>), 'Bharat_Bhashya'), MongoClient(host=['analytics-shard-00-00.gf6av.mongodb.net:27017', 'analytics-shard-00-02.gf6av.mongodb.net:27017', 'analytics-shard-00-01.gf6av.mongodb.net:27017'], document_class=dict, tz_aware=False, connect=True, authsource='admin', replicaset='atlas-xuu70i-shard-0', ssl=True, ssl_cert_reqs=<VerifyMode.CERT_NONE: 0>), Collection(Database(MongoClient(host=['analytics-shard-00-00.gf6av.mongodb.net:27017', 'analytics-shard-00-02.gf6av.mongodb.net:27017', 'analytics-shard-00-01.gf6av.mongodb.net:27017'], document_class=dict, tz_aware=False, connect=True, authsource='admin', replicaset='atlas-xuu70i-shard-0', ssl=True, ssl_cert_reqs=<VerifyMode.CERT_NONE: 0>), 'Bharat_Bhashya'), 'security_agencies')]\n",
      "[]\n"
     ]
    }
   ],
   "source": [
    "user_conn = helper.connect_to_db('security_agencies')   \n",
    "print(user_conn)             \n",
    "user_coll = user_conn[2]                \n",
    "check_user = user_coll.find({\"username\": \"Jap_patel\", \"password\": \"RV1256\"})                  \n",
    "user_result = list(check_user) \n",
    "print(user_result)\n",
    "user_conn[1].close()  "
   ]
  },
  {
   "cell_type": "code",
   "execution_count": null,
   "metadata": {},
   "outputs": [],
   "source": [
    "for case in list1:\n",
    "    print(case['fir_number'])    \n",
    "    print(case['case_name'])\n",
    "    print(case['summary'])"
   ]
  },
  {
   "cell_type": "code",
   "execution_count": null,
   "metadata": {},
   "outputs": [],
   "source": [
    "fname = \"about_us.html\"\n",
    "html_file = open(fname, 'r', encoding='utf-8')\n",
    "source_code = html_file.read() \n",
    "print(source_code)"
   ]
  },
  {
   "cell_type": "code",
   "execution_count": null,
   "metadata": {},
   "outputs": [],
   "source": [
    "\n",
    "# Importing BeautifulSoup and \n",
    "# it is in the bs4 module\n",
    "from bs4 import BeautifulSoup\n",
    "  \n",
    "# Opening the html file. If the file\n",
    "# is present in different location, \n",
    "# exact location need to be mentioned\n",
    "HTMLFileToBeOpened = open(\"open_case.html\", \"r\")\n",
    "  \n",
    "# Reading the file and storing in a variable\n",
    "contents = HTMLFileToBeOpened.read()\n",
    "  \n",
    "# Creating a BeautifulSoup object and\n",
    "# specifying the parser \n",
    "beautifulSoupText = BeautifulSoup(contents, 'lxml')\n",
    "  \n",
    "  \n",
    "# Using the prettify method to modify the code\n",
    "#  Prettify() function in BeautifulSoup helps\n",
    "# to view about the tag nature and their nesting\n",
    "print(beautifulSoupText.body.prettify())"
   ]
  },
  {
   "cell_type": "code",
   "execution_count": null,
   "metadata": {},
   "outputs": [],
   "source": [
    "from google_trans_new import google_translator\n",
    "translator = google_translator()\n",
    "outputText=translator.translate(\"મારું નામ દિવ્યેશ છે હું બીજી સી માં ભણું છું મારા મિત્રો તથા કુંતાનું જયો વિશાલ અને જ છે\", lang_src=\"gu\", lang_tgt=\"en\")\n",
    "print(outputText)\n",
    "print(\"sorry output text can't be obtained\")    \n",
    "with open(\"demo123.txt\", \"w\", encoding=\"utf-8\") as f:\n",
    "    f.write(str(outputText))\n",
    "    f.cose()"
   ]
  },
  {
   "cell_type": "code",
   "execution_count": null,
   "metadata": {},
   "outputs": [],
   "source": [
    "from googletrans import Translator\n",
    "translater=Translator()\n",
    "outputText=translater.translate(\"મારું નામ દિન+ેશ છે\",dest=\"hi\")\n",
    "print(outputText)"
   ]
  },
  {
   "cell_type": "code",
   "execution_count": null,
   "metadata": {},
   "outputs": [],
   "source": [
    "from google_trans_new import google_translator\n",
    "\n",
    "translator = google_translator()\n",
    "text = \"hola!\"\n",
    "translate_text = translator.translate(text, lang_src=\"es\", lang_tgt=\"en\")\n",
    "print(translate_text)"
   ]
  },
  {
   "cell_type": "code",
   "execution_count": null,
   "metadata": {},
   "outputs": [],
   "source": [
    "# {% if display_language_text %}\n",
    "#           <a href=\"{{url_for('save_session', display_language_text = display_language_text, form_police_speech_language = form_police_speech_language, form_target_language = form_target_language, form_suspect_speech_language = form_suspect_speech_language)}}\" class=\"btn btn-outline-success\" data-bs-toggle=\"modal\" data-bs-target=\"#staticBackdrop\" type=\"submit\" style = \"margin-top: -5%;\">\n",
    "#             <i style=\"font-size:24px\" class=\"fa\">&#xf0c7;</i>\n",
    "#             &nbsp;\n",
    "#             Save Session\n",
    "#           </a>  \n",
    "#         {% else %}\n",
    "\n",
    "# <script>\n",
    "#             $(\"#saved_form_beforehand\").click(function() {\n",
    "#                alert(\"coversation not found, session can't be saved\");\n",
    "#             });\n",
    "#          </script>\n",
    "#         {% endif %}  "
   ]
  }
 ],
 "metadata": {
  "kernelspec": {
   "display_name": "Python 3.8.5 ('base')",
   "language": "python",
   "name": "python3"
  },
  "language_info": {
   "codemirror_mode": {
    "name": "ipython",
    "version": 3
   },
   "file_extension": ".py",
   "mimetype": "text/x-python",
   "name": "python",
   "nbconvert_exporter": "python",
   "pygments_lexer": "ipython3",
   "version": "3.8.5"
  },
  "orig_nbformat": 4,
  "vscode": {
   "interpreter": {
    "hash": "f0961e544d0539ec3190915db50d556ba14b8c7f482d4e3818de8e309cd6b7b4"
   }
  }
 },
 "nbformat": 4,
 "nbformat_minor": 2
}
